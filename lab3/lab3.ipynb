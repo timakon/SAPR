{
 "cells": [
  {
   "cell_type": "code",
   "execution_count": 1,
   "id": "4799e62e",
   "metadata": {},
   "outputs": [
    {
     "name": "stdout",
     "output_type": "stream",
     "text": [
      "[[1, 3], [2, 3, 4, 5], [1], [4, 5], [2, 3, 4, 5]]\n"
     ]
    }
   ],
   "source": [
    "import numpy as np\n",
    "import re\n",
    "\n",
    "\n",
    "def task(csv_string):\n",
    "    graph_nodes = re.findall(r'\\d+', csv_string)\n",
    "    for i in range(len(graph_nodes)):\n",
    "        graph_nodes[i] = int(graph_nodes[i])\n",
    "    graph = {i: [] for i in range(1, max(graph_nodes) + 1)}\n",
    "\n",
    "    csv_string = csv_string.split('\\n')\n",
    "    if csv_string[-1] == '':\n",
    "        del csv_string[-1]\n",
    "\n",
    "    for i in csv_string:\n",
    "        nodes = i.split(',')\n",
    "        graph[int(nodes[0])].append(nodes[1])\n",
    "\n",
    "    # main task\n",
    "    r1, r2, r3, r4, r5 = [], [], [], [], []\n",
    "\n",
    "    for key in graph:\n",
    "        if len(graph[key]) > 0:\n",
    "            r1.append(key)\n",
    "        for exit_node in graph[key]:\n",
    "            if int(exit_node) not in r2:\n",
    "                r2.append(int(exit_node))\n",
    "\n",
    "    for i in r1:\n",
    "        if len(graph[i]) > 1:\n",
    "            for exit_node in graph[i]:\n",
    "                if int(exit_node) not in r5:\n",
    "                    r5.append(int(exit_node))\n",
    "        for exit_node_1 in graph[i]:\n",
    "            for exit_node_2 in graph[int(exit_node_1)]:\n",
    "                if i not in r3:\n",
    "                    r3.append(i)\n",
    "                if int(exit_node_2) not in r4:\n",
    "                    r4.append(int(exit_node_2))\n",
    "\n",
    "    return [r1, r2, r3, r4, r5]\n",
    "\n",
    "\n",
    "def main():\n",
    "    with open('data.csv') as file:\n",
    "        csv_string = file.read()\n",
    "        result = task(csv_string)\n",
    "        print(result)\n",
    "\n",
    "\n",
    "if __name__ == '__main__':\n",
    "    main()"
   ]
  },
  {
   "cell_type": "code",
   "execution_count": null,
   "id": "0ca878ce",
   "metadata": {},
   "outputs": [],
   "source": []
  }
 ],
 "metadata": {
  "kernelspec": {
   "display_name": "Python 3 (ipykernel)",
   "language": "python",
   "name": "python3"
  },
  "language_info": {
   "codemirror_mode": {
    "name": "ipython",
    "version": 3
   },
   "file_extension": ".py",
   "mimetype": "text/x-python",
   "name": "python",
   "nbconvert_exporter": "python",
   "pygments_lexer": "ipython3",
   "version": "3.9.12"
  }
 },
 "nbformat": 4,
 "nbformat_minor": 5
}
