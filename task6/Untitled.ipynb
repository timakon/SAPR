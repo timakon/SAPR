{
 "cells": [
  {
   "cell_type": "code",
   "execution_count": 1,
   "id": "33d2cf22",
   "metadata": {},
   "outputs": [],
   "source": [
    "import numpy as np"
   ]
  },
  {
   "cell_type": "code",
   "execution_count": 2,
   "id": "c6d10cda",
   "metadata": {},
   "outputs": [],
   "source": [
    "def CSVreader(csv_file):\n",
    "    with open(csv_file) as file:\n",
    "        pre_result = []\n",
    "        result = []\n",
    "        my_row = []\n",
    "        csv_string = file.read()\n",
    "        csv_string = csv_string.split(\"\\n\")\n",
    "        for row in csv_string:\n",
    "            pre_result.append(eval(row))\n",
    "        for i in range(0, len(pre_result[0])):\n",
    "            for j in range(0, len(pre_result[0])):\n",
    "                my_row.append(pre_result[j][i])\n",
    "            result.append(my_row)\n",
    "            my_row = []\n",
    "    return result"
   ]
  },
  {
   "cell_type": "code",
   "execution_count": 3,
   "id": "cf95e214",
   "metadata": {},
   "outputs": [],
   "source": [
    "def makeMatrix(matrix):\n",
    "    arr_matrix = []\n",
    "    new_row = []\n",
    "    for k in range(0, len(matrix)):\n",
    "        for i in range(0, len(matrix[k])):\n",
    "            for j in range(0, len(matrix[k])):\n",
    "                if (matrix[k][i] < matrix[k][j]):\n",
    "                    new_row.append(1)\n",
    "                elif (matrix[k][i] == matrix[k][j]):\n",
    "                    new_row.append(0.5)\n",
    "                elif (matrix[k][i] > matrix[k][j]):\n",
    "                    new_row.append(0)\n",
    "        arr_matrix.append(new_row)\n",
    "        new_row = []\n",
    "    return arr_matrix"
   ]
  },
  {
   "cell_type": "code",
   "execution_count": 4,
   "id": "962b831d",
   "metadata": {},
   "outputs": [],
   "source": [
    "def makeAverageMatrix(matrixs):\n",
    "    oneMatrix = []\n",
    "    for i in range(0, len(matrixs[0])):\n",
    "        summa = 0\n",
    "        for k in range(0, len(matrixs)):\n",
    "            summa += matrixs[k][i]\n",
    "        oneMatrix.append(summa / len(matrixs))\n",
    "    return oneMatrix"
   ]
  },
  {
   "cell_type": "code",
   "execution_count": 5,
   "id": "7745b14e",
   "metadata": {},
   "outputs": [],
   "source": [
    "def split(a, n):\n",
    "    k, m = divmod(len(a), n)\n",
    "    return (a[i * k + min(i, m):(i + 1) * k + min(i + 1, m)] for i in range(n))"
   ]
  },
  {
   "cell_type": "code",
   "execution_count": 6,
   "id": "91343c9e",
   "metadata": {},
   "outputs": [],
   "source": [
    "def makeKMatrix(oneMatrix, k=[1 / 3, 1 / 3, 1 / 3]):\n",
    "    kMatrix = list(split(oneMatrix, len(k)))\n",
    "    n = len(kMatrix[0])\n",
    "    kP = np.ones(n) / n\n",
    "    kN = None\n",
    "    while True:\n",
    "        y = np.matmul(kMatrix, kP)\n",
    "        lbd = np.matmul(np.ones(n), y)\n",
    "        kN = (1 / lbd) * y\n",
    "        diff = abs(kN - kP)\n",
    "        max = diff.max()\n",
    "        if max <= 0.001:\n",
    "            break\n",
    "        else:\n",
    "            kP = kN\n",
    "    return np.around(kN, 3)\n"
   ]
  },
  {
   "cell_type": "code",
   "execution_count": 7,
   "id": "948cd097",
   "metadata": {},
   "outputs": [],
   "source": [
    "def task(csvString):\n",
    "    res1 = CSVreader(csvString)\n",
    "    res2 = makeMatrix(res1)\n",
    "    res3 = makeAverageMatrix(res2)\n",
    "    res4 = makeKMatrix(res3)\n",
    "    return print(res4)"
   ]
  },
  {
   "cell_type": "code",
   "execution_count": 8,
   "id": "2c7bc83f",
   "metadata": {},
   "outputs": [
    {
     "name": "stdout",
     "output_type": "stream",
     "text": [
      "[0.468 0.169 0.363]\n"
     ]
    }
   ],
   "source": [
    "task(\"./task6.csv\")"
   ]
  }
 ],
 "metadata": {
  "kernelspec": {
   "display_name": "Python 3 (ipykernel)",
   "language": "python",
   "name": "python3"
  },
  "language_info": {
   "codemirror_mode": {
    "name": "ipython",
    "version": 3
   },
   "file_extension": ".py",
   "mimetype": "text/x-python",
   "name": "python",
   "nbconvert_exporter": "python",
   "pygments_lexer": "ipython3",
   "version": "3.9.12"
  }
 },
 "nbformat": 4,
 "nbformat_minor": 5
}
